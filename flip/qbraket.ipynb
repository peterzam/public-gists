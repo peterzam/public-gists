# AWS imports: Import Braket SDK modules
from braket.circuits import Circuit
from braket.aws import AwsDevice
from base64 import b64encode

# set up simulator device
device = AwsDevice("arn:aws:braket:::device/quantum-simulator/amazon/sv1")


# function for Hadamard cirquit
def hadamard_circuit(n_qubits):
    """
    function to apply Hadamard gate on each qubit
    input: number of qubits
    """

    # instantiate circuit object
    circuit = Circuit()

    # apply series of Hadamard gates
    for i in range(n_qubits):
        circuit.h(i)
    return circuit

def bitstring_to_bytes(s):
    return int(s, 2).to_bytes((len(s) + 7) // 8, byteorder='big')

n_qubits = 34
m_shots = 1
bit_string = ""

# Iterate to generate 32*34 bits
for _ in range(32):
    state = hadamard_circuit(n_qubits)
    result = device.run(state, shots=m_shots).result()
    counts = result.measurement_counts.keys()
    list_one = list(counts)[0]
    bit_string += list_one

base64_string = b64encode(bitstring_to_bytes(bit_string))

print(base64_string)